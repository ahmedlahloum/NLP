{
 "cells": [
  {
   "cell_type": "code",
   "execution_count": 5,
   "metadata": {},
   "outputs": [],
   "source": [
    "import numpy as np\n",
    "from skipGram import SkipGram"
   ]
  },
  {
   "cell_type": "code",
   "execution_count": 2,
   "metadata": {},
   "outputs": [],
   "source": [
    "# Load the model\n",
    "word2vec = SkipGram.load('model.npy')"
   ]
  },
  {
   "cell_type": "code",
   "execution_count": 6,
   "metadata": {},
   "outputs": [],
   "source": [
    "vocabulary = word2vec.vocabulary\n",
    "Embs = word2vec.Embeddings\n",
    "inv_vocab = {v: k for k, v in vocabulary.items()}\n",
    "\n",
    "norms = np.linalg.norm(Embs , axis = 1)\n",
    "\n",
    "def most_similar(word):\n",
    "    \n",
    "    idw = vocabulary[word]\n",
    "    vec = Embs[idw]\n",
    "    \n",
    "    lol = -1 * Embs.dot(vec)/ (norms*norms[idw])\n",
    "\n",
    "    ids = np.argsort(lol)\n",
    "    ids = ids[:10]\n",
    "    \n",
    "    for i in ids:\n",
    "        print(inv_vocab[i])"
   ]
  },
  {
   "cell_type": "code",
   "execution_count": 7,
   "metadata": {},
   "outputs": [
    {
     "name": "stdout",
     "output_type": "stream",
     "text": [
      "media\n",
      "newspaper\n",
      "fars\n",
      "radio\n",
      "tv\n",
      "novosti\n",
      "bbc\n",
      "yorkbased\n",
      "news\n",
      "television\n"
     ]
    }
   ],
   "source": [
    "most_similar('media')"
   ]
  },
  {
   "cell_type": "code",
   "execution_count": 13,
   "metadata": {},
   "outputs": [
    {
     "name": "stdout",
     "output_type": "stream",
     "text": [
      "ronaldo\n",
      "cristiano\n",
      "midfielder\n",
      "arsene\n",
      "peck\n",
      "saunders\n",
      "amelia\n",
      "timber\n",
      "omg\n",
      "sebastien\n"
     ]
    }
   ],
   "source": [
    "most_similar('ronaldo')"
   ]
  }
 ],
 "metadata": {
  "kernelspec": {
   "display_name": "Python 3",
   "language": "python",
   "name": "python3"
  },
  "language_info": {
   "codemirror_mode": {
    "name": "ipython",
    "version": 3
   },
   "file_extension": ".py",
   "mimetype": "text/x-python",
   "name": "python",
   "nbconvert_exporter": "python",
   "pygments_lexer": "ipython3",
   "version": "3.6.5"
  },
  "toc": {
   "base_numbering": 1,
   "nav_menu": {},
   "number_sections": true,
   "sideBar": true,
   "skip_h1_title": false,
   "title_cell": "Table of Contents",
   "title_sidebar": "Contents",
   "toc_cell": false,
   "toc_position": {},
   "toc_section_display": true,
   "toc_window_display": false
  }
 },
 "nbformat": 4,
 "nbformat_minor": 2
}
